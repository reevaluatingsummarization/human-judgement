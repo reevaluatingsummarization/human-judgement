{
 "cells": [
  {
   "cell_type": "code",
   "execution_count": 49,
   "metadata": {},
   "outputs": [
    {
     "name": "stdout",
     "output_type": "stream",
     "text": [
      "The autoreload extension is already loaded. To reload it, use:\n",
      "  %reload_ext autoreload\n"
     ]
    }
   ],
   "source": [
    "%load_ext autoreload\n",
    "%autoreload 2\n",
    "\n",
    "%matplotlib inline\n",
    "\n",
    "from IPython.core.interactiveshell import InteractiveShell\n",
    "InteractiveShell.ast_node_interactivity = \"all\""
   ]
  },
  {
   "cell_type": "code",
   "execution_count": 51,
   "metadata": {},
   "outputs": [],
   "source": [
    "import numpy as np\n",
    "import analysis_functions as af\n",
    "import analysis_system_level as asl\n",
    "import itertools\n",
    "import copy\n",
    "\n",
    "from collections import defaultdict as ddict\n",
    "from sklearn.metrics import f1_score\n",
    "from matplotlib import pyplot as plt"
   ]
  },
  {
   "cell_type": "markdown",
   "metadata": {},
   "source": [
    "This notebook loads the score dict and performs analysis corresponding to the experiments in the paper, for either dataset 'CNNDM Ext', 'CNNDM Abs' or 'CNNDM Mix'. Accordingly set variable below."
   ]
  },
  {
   "cell_type": "code",
   "execution_count": 52,
   "metadata": {},
   "outputs": [],
   "source": [
    "mode = 'cnndm_mix' # allowed: 'cnndm_abs', 'cnndm_ext', 'cnndm_mix'\n",
    "assert mode in ['cnndm_abs', 'cnndm_ext', 'cnndm_mix']\n",
    "\n",
    "abs_sd_path = \"../data/score_dicts/abstractive_summaries_score_dict.pkl\"\n",
    "ext_sd_path = \"../data/score_dicts/extractive_summaries_score_dict.pkl\""
   ]
  },
  {
   "cell_type": "code",
   "execution_count": 53,
   "metadata": {},
   "outputs": [],
   "source": [
    "# set mode-based variables: sd (score dict), kvalues (for exp ii), splits (for expt iii)\n",
    "if mode == 'cnndm_abs':    \n",
    "    sd = af.get_pickle(abs_sd_path)\n",
    "    kvalues = [15, 14, 12, 10, 8, 6, 4] \n",
    "    splits = [0, 5, 10] \n",
    "elif mode == 'cnndm_ext':\n",
    "    sd = af.get_pickle(ext_sd_path)\n",
    "    kvalues = [10, 8, 6, 4]\n",
    "    splits = [0, 3, 6]\n",
    "else: # mix\n",
    "    sd_abs = af.get_pickle(abs_sd_path)\n",
    "    sd_ext = af.get_pickle(ext_sd_path)\n",
    "    sd = copy.deepcopy(sd_abs)\n",
    "    for doc_id in sd:\n",
    "        isd_sota_ext = sd_ext[doc_id]\n",
    "        isd_sota_ext['system_summaries']['bart_out_ext.txt'] = isd_sota_ext['system_summaries']['bart_out.txt']\n",
    "        sd[doc_id]['system_summaries'].update(isd_sota_ext['system_summaries'])\n",
    "    kvalues = [25, 20, 18, 16, 14, 12, 10, 8, 6, 4]\n",
    "    splits = [0, 5, 10, 15, 20]"
   ]
  },
  {
   "cell_type": "markdown",
   "metadata": {
    "pycharm": {
     "name": "#%% md\n"
    }
   },
   "source": [
    "## Exploring the scores dict\n",
    "### Print score ranges"
   ]
  },
  {
   "cell_type": "code",
   "execution_count": 54,
   "metadata": {},
   "outputs": [
    {
     "name": "stdout",
     "output_type": "stream",
     "text": [
      "                          min    25-perc    median    75-perc      max     mean\n",
      "--------------------  -------  ---------  --------  ---------  -------  -------\n",
      "bert_f_score          -0.3518     0.1878    0.2743     0.3545   0.9326   0.2726\n",
      "bert_precision_score  -0.2548     0.1439    0.2325     0.3289   0.9430   0.2391\n",
      "bert_recall_score     -0.4593     0.2092    0.3081     0.4013   0.9219   0.3056\n",
      "js-2                  -0.6931    -0.6075   -0.5563    -0.4993  -0.1201  -0.5454\n",
      "litepyramid_recall     0.0000     0.2292    0.3125     0.3750   0.9375   0.3097\n",
      "mover_score            0.0082     0.2230    0.2745     0.3338   0.7542   0.2821\n",
      "rouge_1_f_score        0.0961     0.3607    0.4324     0.5088   0.9048   0.4381\n",
      "rouge_1_precision      0.1000     0.3148    0.3830     0.4758   0.9412   0.4001\n",
      "rouge_1_recall         0.0926     0.4064    0.5094     0.6154   0.9600   0.5119\n",
      "rouge_2_f_score        0.0000     0.1157    0.1831     0.2617   0.8293   0.2007\n",
      "rouge_2_precision      0.0000     0.1020    0.1623     0.2353   0.8750   0.1834\n",
      "rouge_2_recall         0.0000     0.1304    0.2143     0.3137   0.8293   0.2345\n",
      "rouge_l_f_score        0.0741     0.3177    0.3958     0.4682   0.9048   0.4006\n",
      "rouge_l_precision      0.0820     0.2791    0.3492     0.4423   0.9412   0.3659\n",
      "rouge_l_recall         0.0612     0.3617    0.4583     0.5683   0.9600   0.4681\n",
      "sms                    0.0000     0.0003    0.0007     0.0017   0.0905   0.0024\n",
      "wms                    0.0000     0.0000    0.0000     0.0000   0.0292   0.0000\n"
     ]
    }
   ],
   "source": [
    "af.print_score_ranges(sd)"
   ]
  },
  {
   "cell_type": "markdown",
   "metadata": {},
   "source": [
    "### How many documents?"
   ]
  },
  {
   "cell_type": "code",
   "execution_count": 55,
   "metadata": {},
   "outputs": [
    {
     "data": {
      "text/plain": [
       "100"
      ]
     },
     "execution_count": 55,
     "metadata": {},
     "output_type": "execute_result"
    }
   ],
   "source": [
    "len(sd)"
   ]
  },
  {
   "cell_type": "markdown",
   "metadata": {
    "pycharm": {
     "name": "#%% md\n"
    }
   },
   "source": [
    "### How many summaries per document?"
   ]
  },
  {
   "cell_type": "code",
   "execution_count": 39,
   "metadata": {
    "pycharm": {
     "name": "#%%\n"
    }
   },
   "outputs": [
    {
     "name": "stdout",
     "output_type": "stream",
     "text": [
      "10.0\n"
     ]
    }
   ],
   "source": [
    "print(np.mean([len(d['system_summaries']) for d in sd.values()]))"
   ]
  },
  {
   "cell_type": "markdown",
   "metadata": {
    "pycharm": {
     "name": "#%% md\n"
    }
   },
   "source": [
    "### What metrics found for each document?"
   ]
  },
  {
   "cell_type": "code",
   "execution_count": 40,
   "metadata": {
    "pycharm": {
     "name": "#%%\n"
    }
   },
   "outputs": [
    {
     "data": {
      "text/plain": [
       "['bert_f_score',\n",
       " 'bert_precision_score',\n",
       " 'bert_recall_score',\n",
       " 'js-2',\n",
       " 'litepyramid_recall',\n",
       " 'mover_score',\n",
       " 'rouge_1_f_score',\n",
       " 'rouge_1_precision',\n",
       " 'rouge_1_recall',\n",
       " 'rouge_2_f_score',\n",
       " 'rouge_2_precision',\n",
       " 'rouge_2_recall',\n",
       " 'rouge_l_f_score',\n",
       " 'rouge_l_precision',\n",
       " 'rouge_l_recall',\n",
       " 'sms',\n",
       " 'wms']"
      ]
     },
     "execution_count": 40,
     "metadata": {},
     "output_type": "execute_result"
    }
   ],
   "source": [
    "mlist = af.get_metrics_list(sd)\n",
    "mlist"
   ]
  },
  {
   "cell_type": "markdown",
   "metadata": {},
   "source": [
    "# Experiments"
   ]
  },
  {
   "cell_type": "code",
   "execution_count": 41,
   "metadata": {},
   "outputs": [],
   "source": [
    "# list of metrics used in experiment\n",
    "mlist = ['bert_recall_score', 'mover_score', 'wms', 'sms', 'rouge_1_recall', 'rouge_2_recall', 'rouge_l_recall', 'js-2', \n",
    "         'litepyramid_recall']"
   ]
  },
  {
   "cell_type": "markdown",
   "metadata": {},
   "source": [
    "## Exp. IV: Summary level analysis"
   ]
  },
  {
   "cell_type": "code",
   "execution_count": 42,
   "metadata": {},
   "outputs": [],
   "source": [
    "np.set_printoptions(precision=4)"
   ]
  },
  {
   "cell_type": "markdown",
   "metadata": {},
   "source": [
    "Prints a matrix of Pearson's r values between each metric pair. \n",
    "Read this as a table where the column labels (list of metrics printed in the first line of output) are also the row labels from top to bottom."
   ]
  },
  {
   "cell_type": "code",
   "execution_count": 43,
   "metadata": {},
   "outputs": [
    {
     "name": "stdout",
     "output_type": "stream",
     "text": [
      "['bert_recall_score', 'mover_score', 'wms', 'sms', 'rouge_1_recall', 'rouge_2_recall', 'rouge_l_recall', 'js-2', 'litepyramid_recall']\n",
      "[[0.     0.819  0.6398 0.4573 0.7993 0.7887 0.7797 0.7726 0.6827]]\n",
      "\n",
      "[[0.     0.     0.7998 0.4685 0.6329 0.7746 0.6974 0.8465 0.7483]]\n",
      "\n",
      "[[0.     0.     0.     0.6755 0.5818 0.7407 0.6022 0.8075 0.4667]]\n",
      "\n",
      "[[0.     0.     0.     0.     0.7409 0.7306 0.7703 0.6256 0.6019]]\n",
      "\n",
      "[[0.     0.     0.     0.     0.     0.8602 0.955  0.7072 0.7738]]\n",
      "\n",
      "[[0.     0.     0.     0.     0.     0.     0.8838 0.9041 0.705 ]]\n",
      "\n",
      "[[0.     0.     0.     0.     0.     0.     0.     0.7442 0.6995]]\n",
      "\n",
      "[[0.     0.     0.     0.     0.     0.     0.     0.     0.5712]]\n",
      "\n",
      "[[0. 0. 0. 0. 0. 0. 0. 0. 0.]]\n",
      "\n",
      "total 2041/3600.0 = 56.69444444444444% values ignored\n"
     ]
    }
   ],
   "source": [
    "metrics = mlist\n",
    "af.print_ktau_matrix(metrics, percentile=[(0, 100)], sd=sd, cutoff_metric='litepyramid_recall', y_type='pearson')"
   ]
  },
  {
   "cell_type": "markdown",
   "metadata": {},
   "source": [
    "## Exp-II: Evaluating Top-k Systems"
   ]
  },
  {
   "cell_type": "markdown",
   "metadata": {},
   "source": [
    "### prints pearson correlations for each metric, for different k values"
   ]
  },
  {
   "cell_type": "code",
   "execution_count": 56,
   "metadata": {},
   "outputs": [
    {
     "name": "stdout",
     "output_type": "stream",
     "text": [
      "25\n",
      "{'litepyramid_recall_wms': 0.9853195876621872}\n",
      "\n",
      "20\n",
      "{'litepyramid_recall_mover_score': 0.7929642354521256, 'litepyramid_recall_wms': 0.5697600286389322, 'litepyramid_recall_sms': 0.13752270821657128}\n",
      "\n",
      "18\n",
      "{'litepyramid_recall_mover_score': 0.9212747960770103, 'litepyramid_recall_wms': 0.41534830251531346, 'litepyramid_recall_sms': 0.6461487711487377, 'litepyramid_recall_js-2': 0.09091913719177554}\n",
      "\n",
      "16\n",
      "{'litepyramid_recall_mover_score': 0.7791901516046325, 'litepyramid_recall_wms': 0.2352783543761966, 'litepyramid_recall_sms': 0.7674063366628605, 'litepyramid_recall_js-2': 0.12730026067038266}\n",
      "\n",
      "14\n",
      "{'litepyramid_recall_mover_score': 0.3306332534284871, 'litepyramid_recall_wms': 0.08735756654623347, 'litepyramid_recall_sms': 0.13585616005061163, 'litepyramid_recall_js-2': 0.13459906910537034}\n",
      "\n",
      "12\n",
      "{'litepyramid_recall_mover_score': 0.07433745476139106, 'litepyramid_recall_wms': 0.6810160821559108, 'litepyramid_recall_sms': 0.6557089442162636}\n",
      "\n",
      "semsim_out.txt 0.3684374999999999\n",
      "bart_out.txt 0.35739583333333336\n",
      "bart_out_ext.txt 0.35739583333333336\n",
      "refresh_out.txt 0.355625\n",
      "matchsumm_out.txt 0.3492708333333333\n",
      "pnbert_out_lstm_pn_rl.txt 0.34354166666666663\n",
      "pnbert_out_bert_lstm_pn.txt 0.3370833333333333\n",
      "pnbert_out_bert_tf_sl.txt 0.336875\n",
      "pnbert_out_bert_tf_pn.txt 0.33333333333333326\n",
      "pnbert_out_bert_lstm_pn_rl.txt 0.3325000000000001\n",
      "10\n",
      "{'litepyramid_recall_mover_score': 0.12241059941607943, 'litepyramid_recall_wms': 0.4997651972650987, 'litepyramid_recall_sms': 0.29440111090128895, 'litepyramid_recall_js-2': 0.07861834765750011}\n",
      "\n",
      "8\n",
      "{'litepyramid_recall_bert_recall_score': 0.06409676586760625, 'litepyramid_recall_mover_score': 0.207963986263121, 'litepyramid_recall_wms': 0.769176373538765, 'litepyramid_recall_sms': 0.16951038863103704, 'litepyramid_recall_rouge_1_recall': 0.09158304352327012, 'litepyramid_recall_rouge_l_recall': 0.05606218112083549, 'litepyramid_recall_js-2': 0.21125702248937528}\n",
      "\n",
      "6\n",
      "{'litepyramid_recall_bert_recall_score': 0.22996919554553827, 'litepyramid_recall_mover_score': 0.3707738680707922, 'litepyramid_recall_wms': 0.9534280458552387, 'litepyramid_recall_sms': 0.2293945115838093, 'litepyramid_recall_rouge_1_recall': 0.34295094801777143, 'litepyramid_recall_rouge_2_recall': 0.054851470404897226, 'litepyramid_recall_rouge_l_recall': 0.22988376552417616, 'litepyramid_recall_js-2': 0.2992174958357206}\n",
      "\n",
      "4\n",
      "{'litepyramid_recall_bert_recall_score': 0.836363013240056, 'litepyramid_recall_mover_score': 0.5203586986259077, 'litepyramid_recall_wms': 0.9593766825185062, 'litepyramid_recall_sms': 0.052948669520956004, 'litepyramid_recall_rouge_1_recall': 0.5361617972565995, 'litepyramid_recall_rouge_2_recall': 0.5475535664036949, 'litepyramid_recall_rouge_l_recall': 0.5966972564849765, 'litepyramid_recall_js-2': 0.5775757795653852}\n",
      "\n"
     ]
    },
    {
     "data": {
      "text/plain": [
       "<matplotlib.legend.Legend at 0x7f7b01e8a550>"
      ]
     },
     "execution_count": 56,
     "metadata": {},
     "output_type": "execute_result"
    },
    {
     "data": {
      "text/plain": [
       "Text(0.5, 0, 'top k systems according to litepyramid_recall')"
      ]
     },
     "execution_count": 56,
     "metadata": {},
     "output_type": "execute_result"
    },
    {
     "data": {
      "text/plain": [
       "Text(0, 0.5, 'pearson correlation between different metric pairs')"
      ]
     },
     "execution_count": 56,
     "metadata": {},
     "output_type": "execute_result"
    },
    {
     "data": {
      "text/plain": [
       "(-1, 1)"
      ]
     },
     "execution_count": 56,
     "metadata": {},
     "output_type": "execute_result"
    },
    {
     "data": {
      "image/png": "[encoded data removed]",
      "text/plain": [
       "<Figure size 432x288 with 1 Axes>"
      ]
     },
     "metadata": {
      "needs_background": "light"
     },
     "output_type": "display_data"
    }
   ],
   "source": [
    "# plot k vs disagreements\n",
    "\n",
    "all_pairs = [('litepyramid_recall', m) for m in mlist if m != 'litepyramid_recall']\n",
    "systems = asl.get_system_level_scores(sd, mlist, agg='mean')\n",
    "sorting_metric = 'litepyramid_recall'\n",
    "correlation_method = 'pearson'\n",
    "\n",
    "y = ddict(list)\n",
    "for k in kvalues:\n",
    "    top_ksystems = asl.get_topk(systems, k, metric=sorting_metric)\n",
    "    if k == 10:\n",
    "        for sys, scores in top_ksystems.items():\n",
    "            print(sys, scores['litepyramid_recall'])\n",
    "#     print(k, top_ksystems.keys())\n",
    "    corr, pval = asl.get_correlation(top_ksystems, metric_pairs=all_pairs, method=correlation_method)\n",
    "    for key in corr:\n",
    "        y[key].append(corr[key])\n",
    "        \n",
    "    print(k)\n",
    "    print({m: p for m, p in pval.items() if p > 0.05})\n",
    "    print()\n",
    "        \n",
    "data = {\n",
    "    'x': kvalues,\n",
    "    **y,\n",
    "}\n",
    "labels = list(y.keys())\n",
    "\n",
    "ax = plt.axes([0, 0, 2, 2])\n",
    "lines = []\n",
    "for label in labels:\n",
    "    lines.append(ax.plot('x', label, data=data, linewidth=6.0, marker='o',\n",
    "                         linestyle=':' if 'pyramid' in label else None))\n",
    "plt.gca().invert_xaxis()\n",
    "ax.legend(prop={'size': 15})\n",
    "ax.set_xlabel(f\"top k systems according to {sorting_metric}\", fontsize=25)\n",
    "ax.set_ylabel(f\"{correlation_method} correlation between different metric pairs\", fontsize=25)\n",
    "plt.ylim(-1, 1)"
   ]
  },
  {
   "cell_type": "code",
   "execution_count": 16,
   "metadata": {},
   "outputs": [
    {
     "name": "stdout",
     "output_type": "stream",
     "text": [
      "15.000\t0.819\t0.783\t0.373\t-0.381\t0.889\t0.979\t0.798\t0.864\n",
      "14.000\t0.826\t0.791\t0.344\t-0.556\t0.851\t0.972\t0.783\t0.838\n",
      "12.000\t0.753\t0.678\t0.179\t-0.380\t0.833\t0.968\t0.818\t0.789\n",
      "10.000\t0.678\t0.556\t0.004\t-0.328\t0.882\t0.978\t0.879\t0.731\n",
      "8.000\t0.622\t0.445\t-0.021\t0.047\t0.887\t0.974\t0.877\t0.646\n",
      "6.000\t0.664\t0.361\t-0.066\t0.218\t0.861\t0.977\t0.859\t0.632\n",
      "4.000\t0.989\t0.442\t-0.275\t-0.572\t0.870\t0.991\t0.889\t0.625\n"
     ]
    }
   ],
   "source": [
    "for i in range(len(data['x'])):\n",
    "    print('\\t'.join(['{:.3f}'.format(data['x'][i])] + ['{:.3f}'.format(data[key][i]) for key in y.keys()]))"
   ]
  },
  {
   "cell_type": "markdown",
   "metadata": {},
   "source": [
    "## Exp. I : System-level analysis: Evaluating All Systems"
   ]
  },
  {
   "cell_type": "markdown",
   "metadata": {},
   "source": [
    "### Significance testing using William’s test"
   ]
  },
  {
   "cell_type": "markdown",
   "metadata": {},
   "source": [
    "#### prints williams tests results to local file"
   ]
  },
  {
   "cell_type": "code",
   "execution_count": 57,
   "metadata": {},
   "outputs": [],
   "source": [
    "#  Write results for william's test to file"
   ]
  },
  {
   "cell_type": "code",
   "execution_count": 58,
   "metadata": {},
   "outputs": [],
   "source": [
    "W_DATAPATH = \"../data/\"\n",
    "human_scores_fp = W_DATAPATH + mode +'_human_scores.tsv' # change 'abs' to 'ext' for extractive\n",
    "metric_scores_fp = W_DATAPATH + mode + '_metric_scores.tsv' # change 'abs' to 'ext' for extractive"
   ]
  },
  {
   "cell_type": "code",
   "execution_count": 59,
   "metadata": {},
   "outputs": [],
   "source": [
    "header = 'METRIC\\tLP\\tTESTSET\\tSYSTEM\\tSCORE'"
   ]
  },
  {
   "cell_type": "code",
   "execution_count": 60,
   "metadata": {},
   "outputs": [
    {
     "data": {
      "text/plain": [
       "25"
      ]
     },
     "execution_count": 60,
     "metadata": {},
     "output_type": "execute_result"
    }
   ],
   "source": [
    "systems = asl.get_system_level_scores(sd, mlist, agg='mean')\n",
    "len(systems)"
   ]
  },
  {
   "cell_type": "code",
   "execution_count": 61,
   "metadata": {},
   "outputs": [],
   "source": [
    "# systems"
   ]
  },
  {
   "cell_type": "code",
   "execution_count": 62,
   "metadata": {},
   "outputs": [
    {
     "data": {
      "text/plain": [
       "31"
      ]
     },
     "execution_count": 62,
     "metadata": {},
     "output_type": "execute_result"
    }
   ],
   "source": [
    "with open(human_scores_fp, 'w') as f:\n",
    "    f.write(header + '\\n')\n",
    "    for sys_name in systems:\n",
    "        _ = f.write(f\"HUMAN\\ten-en\\tcnndm\\t{sys_name}\\t{systems[sys_name]['litepyramid_recall']}\\n\")"
   ]
  },
  {
   "cell_type": "code",
   "execution_count": 63,
   "metadata": {},
   "outputs": [
    {
     "data": {
      "text/plain": [
       "31"
      ]
     },
     "execution_count": 63,
     "metadata": {},
     "output_type": "execute_result"
    }
   ],
   "source": [
    "with open(metric_scores_fp, 'w') as f:\n",
    "    f.write(header + '\\n')\n",
    "    for m in mlist:\n",
    "        if m == 'litepyramid_recall':\n",
    "            continue\n",
    "        for sys_name in systems:\n",
    "            _ = f.write(f\"{m}\\ten-en\\tcnndm\\t{sys_name}\\t{systems[sys_name][m]}\\n\")"
   ]
  },
  {
   "cell_type": "markdown",
   "metadata": {},
   "source": [
    "## Exp. III: Bootstrap Resampling"
   ]
  },
  {
   "cell_type": "markdown",
   "metadata": {},
   "source": [
    "### prints results corresponding to expt iii"
   ]
  },
  {
   "cell_type": "code",
   "execution_count": 64,
   "metadata": {},
   "outputs": [],
   "source": [
    "systems = asl.get_system_level_scores(sd, mlist, agg='none')\n",
    "# systems\n",
    "sys_names = list(systems.keys())\n",
    "all_system_pairs = list(itertools.combinations(sys_names, 2))"
   ]
  },
  {
   "cell_type": "code",
   "execution_count": 65,
   "metadata": {},
   "outputs": [],
   "source": [
    "from random import choices"
   ]
  },
  {
   "cell_type": "code",
   "execution_count": 66,
   "metadata": {},
   "outputs": [],
   "source": [
    "def get_predictions_br(system_pairs, systems, metric):\n",
    "    preds = {}\n",
    "    for pair in system_pairs:\n",
    "        sys1 = systems[pair[0]][metric]\n",
    "        sys2 = systems[pair[1]][metric]\n",
    "        n = len(sys1)\n",
    "        points = [i for i in range(0, n)]\n",
    "        is_better = 0\n",
    "        for i in range(1000):\n",
    "            sample = choices(points, k=n)\n",
    "            sys1_ = [sys1[p] for p in points]\n",
    "            sys2_ = [sys2[p] for p in points]\n",
    "            if np.mean(sys1_) > np.mean(sys2_):\n",
    "                is_better += 1\n",
    "                \n",
    "        if is_better/1000 >= 0.95:\n",
    "            preds[pair] = 0 # pair[0] is better\n",
    "        elif is_better/1000 <= 0.05:\n",
    "            preds[pair] = 1 # pair[1] is better\n",
    "        else:\n",
    "            preds[pair] = 2 # can't say\n",
    "    return preds"
   ]
  },
  {
   "cell_type": "code",
   "execution_count": 67,
   "metadata": {},
   "outputs": [],
   "source": [
    "# print 1 if second metric is better than the first \n",
    "human_judgements = get_predictions_br(all_system_pairs, systems, 'litepyramid_recall')"
   ]
  },
  {
   "cell_type": "code",
   "execution_count": 68,
   "metadata": {
    "scrolled": true
   },
   "outputs": [
    {
     "data": {
      "text/plain": [
       "{('presumm_out_trans_abs.txt', 'two_stage_rl_out.txt'): 1,\n",
       " ('presumm_out_trans_abs.txt', 'unilm_out_v2.txt'): 1,\n",
       " ('presumm_out_trans_abs.txt', 't5_out_large.txt'): 1,\n",
       " ('presumm_out_trans_abs.txt', 'presumm_out_ext_abs.txt'): 1,\n",
       " ('presumm_out_trans_abs.txt', 'ptr_generator_out_pointer_gen_cov.txt'): 0,\n",
       " ('presumm_out_trans_abs.txt', 'neusumm_out.txt'): 1,\n",
       " ('presumm_out_trans_abs.txt', 'bart_out.txt'): 1,\n",
       " ('presumm_out_trans_abs.txt', 'fast_abs_rl_out_rerank.txt'): 1,\n",
       " ('presumm_out_trans_abs.txt', 't5_out_11B.txt'): 1,\n",
       " ('presumm_out_trans_abs.txt', 'presumm_out_abs.txt'): 1,\n",
       " ('presumm_out_trans_abs.txt', 'bottom_up_out.txt'): 0,\n",
       " ('presumm_out_trans_abs.txt', 'unilm_out_v1.txt'): 1,\n",
       " ('presumm_out_trans_abs.txt', 't5_out_base.txt'): 1,\n",
       " ('presumm_out_trans_abs.txt', 'semsim_out.txt'): 1,\n",
       " ('presumm_out_trans_abs.txt', 'pnbert_out_lstm_pn_rl.txt'): 1,\n",
       " ('presumm_out_trans_abs.txt', 'refresh_out.txt'): 1,\n",
       " ('presumm_out_trans_abs.txt', 'heter_graph_out.txt'): 1,\n",
       " ('presumm_out_trans_abs.txt', 'pnbert_out_bert_tf_sl.txt'): 1,\n",
       " ('presumm_out_trans_abs.txt', 'banditsumm_out.txt'): 1,\n",
       " ('presumm_out_trans_abs.txt', 'pnbert_out_bert_lstm_pn_rl.txt'): 1,\n",
       " ('presumm_out_trans_abs.txt', 'pnbert_out_bert_tf_pn.txt'): 1,\n",
       " ('presumm_out_trans_abs.txt', 'matchsumm_out.txt'): 1,\n",
       " ('presumm_out_trans_abs.txt', 'pnbert_out_bert_lstm_pn.txt'): 1,\n",
       " ('presumm_out_trans_abs.txt', 'bart_out_ext.txt'): 1,\n",
       " ('two_stage_rl_out.txt', 'unilm_out_v2.txt'): 1,\n",
       " ('two_stage_rl_out.txt', 't5_out_large.txt'): 1,\n",
       " ('two_stage_rl_out.txt', 'presumm_out_ext_abs.txt'): 0,\n",
       " ('two_stage_rl_out.txt', 'ptr_generator_out_pointer_gen_cov.txt'): 0,\n",
       " ('two_stage_rl_out.txt', 'neusumm_out.txt'): 1,\n",
       " ('two_stage_rl_out.txt', 'bart_out.txt'): 1,\n",
       " ('two_stage_rl_out.txt', 'fast_abs_rl_out_rerank.txt'): 0,\n",
       " ('two_stage_rl_out.txt', 't5_out_11B.txt'): 1,\n",
       " ('two_stage_rl_out.txt', 'presumm_out_abs.txt'): 0,\n",
       " ('two_stage_rl_out.txt', 'bottom_up_out.txt'): 0,\n",
       " ('two_stage_rl_out.txt', 'unilm_out_v1.txt'): 1,\n",
       " ('two_stage_rl_out.txt', 't5_out_base.txt'): 0,\n",
       " ('two_stage_rl_out.txt', 'semsim_out.txt'): 1,\n",
       " ('two_stage_rl_out.txt', 'pnbert_out_lstm_pn_rl.txt'): 1,\n",
       " ('two_stage_rl_out.txt', 'refresh_out.txt'): 1,\n",
       " ('two_stage_rl_out.txt', 'heter_graph_out.txt'): 1,\n",
       " ('two_stage_rl_out.txt', 'pnbert_out_bert_tf_sl.txt'): 1,\n",
       " ('two_stage_rl_out.txt', 'banditsumm_out.txt'): 1,\n",
       " ('two_stage_rl_out.txt', 'pnbert_out_bert_lstm_pn_rl.txt'): 1,\n",
       " ('two_stage_rl_out.txt', 'pnbert_out_bert_tf_pn.txt'): 1,\n",
       " ('two_stage_rl_out.txt', 'matchsumm_out.txt'): 1,\n",
       " ('two_stage_rl_out.txt', 'pnbert_out_bert_lstm_pn.txt'): 1,\n",
       " ('two_stage_rl_out.txt', 'bart_out_ext.txt'): 1,\n",
       " ('unilm_out_v2.txt', 't5_out_large.txt'): 0,\n",
       " ('unilm_out_v2.txt', 'presumm_out_ext_abs.txt'): 0,\n",
       " ('unilm_out_v2.txt', 'ptr_generator_out_pointer_gen_cov.txt'): 0,\n",
       " ('unilm_out_v2.txt', 'neusumm_out.txt'): 1,\n",
       " ('unilm_out_v2.txt', 'bart_out.txt'): 1,\n",
       " ('unilm_out_v2.txt', 'fast_abs_rl_out_rerank.txt'): 0,\n",
       " ('unilm_out_v2.txt', 't5_out_11B.txt'): 1,\n",
       " ('unilm_out_v2.txt', 'presumm_out_abs.txt'): 0,\n",
       " ('unilm_out_v2.txt', 'bottom_up_out.txt'): 0,\n",
       " ('unilm_out_v2.txt', 'unilm_out_v1.txt'): 0,\n",
       " ('unilm_out_v2.txt', 't5_out_base.txt'): 0,\n",
       " ('unilm_out_v2.txt', 'semsim_out.txt'): 1,\n",
       " ('unilm_out_v2.txt', 'pnbert_out_lstm_pn_rl.txt'): 1,\n",
       " ('unilm_out_v2.txt', 'refresh_out.txt'): 1,\n",
       " ('unilm_out_v2.txt', 'heter_graph_out.txt'): 1,\n",
       " ('unilm_out_v2.txt', 'pnbert_out_bert_tf_sl.txt'): 1,\n",
       " ('unilm_out_v2.txt', 'banditsumm_out.txt'): 1,\n",
       " ('unilm_out_v2.txt', 'pnbert_out_bert_lstm_pn_rl.txt'): 1,\n",
       " ('unilm_out_v2.txt', 'pnbert_out_bert_tf_pn.txt'): 1,\n",
       " ('unilm_out_v2.txt', 'matchsumm_out.txt'): 1,\n",
       " ('unilm_out_v2.txt', 'pnbert_out_bert_lstm_pn.txt'): 1,\n",
       " ('unilm_out_v2.txt', 'bart_out_ext.txt'): 1,\n",
       " ('t5_out_large.txt', 'presumm_out_ext_abs.txt'): 0,\n",
       " ('t5_out_large.txt', 'ptr_generator_out_pointer_gen_cov.txt'): 0,\n",
       " ('t5_out_large.txt', 'neusumm_out.txt'): 1,\n",
       " ('t5_out_large.txt', 'bart_out.txt'): 1,\n",
       " ('t5_out_large.txt', 'fast_abs_rl_out_rerank.txt'): 0,\n",
       " ('t5_out_large.txt', 't5_out_11B.txt'): 1,\n",
       " ('t5_out_large.txt', 'presumm_out_abs.txt'): 0,\n",
       " ('t5_out_large.txt', 'bottom_up_out.txt'): 0,\n",
       " ('t5_out_large.txt', 'unilm_out_v1.txt'): 1,\n",
       " ('t5_out_large.txt', 't5_out_base.txt'): 0,\n",
       " ('t5_out_large.txt', 'semsim_out.txt'): 1,\n",
       " ('t5_out_large.txt', 'pnbert_out_lstm_pn_rl.txt'): 1,\n",
       " ('t5_out_large.txt', 'refresh_out.txt'): 1,\n",
       " ('t5_out_large.txt', 'heter_graph_out.txt'): 1,\n",
       " ('t5_out_large.txt', 'pnbert_out_bert_tf_sl.txt'): 1,\n",
       " ('t5_out_large.txt', 'banditsumm_out.txt'): 1,\n",
       " ('t5_out_large.txt', 'pnbert_out_bert_lstm_pn_rl.txt'): 1,\n",
       " ('t5_out_large.txt', 'pnbert_out_bert_tf_pn.txt'): 1,\n",
       " ('t5_out_large.txt', 'matchsumm_out.txt'): 1,\n",
       " ('t5_out_large.txt', 'pnbert_out_bert_lstm_pn.txt'): 1,\n",
       " ('t5_out_large.txt', 'bart_out_ext.txt'): 1,\n",
       " ('presumm_out_ext_abs.txt', 'ptr_generator_out_pointer_gen_cov.txt'): 0,\n",
       " ('presumm_out_ext_abs.txt', 'neusumm_out.txt'): 1,\n",
       " ('presumm_out_ext_abs.txt', 'bart_out.txt'): 1,\n",
       " ('presumm_out_ext_abs.txt', 'fast_abs_rl_out_rerank.txt'): 0,\n",
       " ('presumm_out_ext_abs.txt', 't5_out_11B.txt'): 1,\n",
       " ('presumm_out_ext_abs.txt', 'presumm_out_abs.txt'): 0,\n",
       " ('presumm_out_ext_abs.txt', 'bottom_up_out.txt'): 0,\n",
       " ('presumm_out_ext_abs.txt', 'unilm_out_v1.txt'): 1,\n",
       " ('presumm_out_ext_abs.txt', 't5_out_base.txt'): 0,\n",
       " ('presumm_out_ext_abs.txt', 'semsim_out.txt'): 1,\n",
       " ('presumm_out_ext_abs.txt', 'pnbert_out_lstm_pn_rl.txt'): 1,\n",
       " ('presumm_out_ext_abs.txt', 'refresh_out.txt'): 1,\n",
       " ('presumm_out_ext_abs.txt', 'heter_graph_out.txt'): 1,\n",
       " ('presumm_out_ext_abs.txt', 'pnbert_out_bert_tf_sl.txt'): 1,\n",
       " ('presumm_out_ext_abs.txt', 'banditsumm_out.txt'): 1,\n",
       " ('presumm_out_ext_abs.txt', 'pnbert_out_bert_lstm_pn_rl.txt'): 1,\n",
       " ('presumm_out_ext_abs.txt', 'pnbert_out_bert_tf_pn.txt'): 1,\n",
       " ('presumm_out_ext_abs.txt', 'matchsumm_out.txt'): 1,\n",
       " ('presumm_out_ext_abs.txt', 'pnbert_out_bert_lstm_pn.txt'): 1,\n",
       " ('presumm_out_ext_abs.txt', 'bart_out_ext.txt'): 1,\n",
       " ('ptr_generator_out_pointer_gen_cov.txt', 'neusumm_out.txt'): 1,\n",
       " ('ptr_generator_out_pointer_gen_cov.txt', 'bart_out.txt'): 1,\n",
       " ('ptr_generator_out_pointer_gen_cov.txt', 'fast_abs_rl_out_rerank.txt'): 1,\n",
       " ('ptr_generator_out_pointer_gen_cov.txt', 't5_out_11B.txt'): 1,\n",
       " ('ptr_generator_out_pointer_gen_cov.txt', 'presumm_out_abs.txt'): 1,\n",
       " ('ptr_generator_out_pointer_gen_cov.txt', 'bottom_up_out.txt'): 0,\n",
       " ('ptr_generator_out_pointer_gen_cov.txt', 'unilm_out_v1.txt'): 1,\n",
       " ('ptr_generator_out_pointer_gen_cov.txt', 't5_out_base.txt'): 1,\n",
       " ('ptr_generator_out_pointer_gen_cov.txt', 'semsim_out.txt'): 1,\n",
       " ('ptr_generator_out_pointer_gen_cov.txt', 'pnbert_out_lstm_pn_rl.txt'): 1,\n",
       " ('ptr_generator_out_pointer_gen_cov.txt', 'refresh_out.txt'): 1,\n",
       " ('ptr_generator_out_pointer_gen_cov.txt', 'heter_graph_out.txt'): 1,\n",
       " ('ptr_generator_out_pointer_gen_cov.txt', 'pnbert_out_bert_tf_sl.txt'): 1,\n",
       " ('ptr_generator_out_pointer_gen_cov.txt', 'banditsumm_out.txt'): 1,\n",
       " ('ptr_generator_out_pointer_gen_cov.txt',\n",
       "  'pnbert_out_bert_lstm_pn_rl.txt'): 1,\n",
       " ('ptr_generator_out_pointer_gen_cov.txt', 'pnbert_out_bert_tf_pn.txt'): 1,\n",
       " ('ptr_generator_out_pointer_gen_cov.txt', 'matchsumm_out.txt'): 1,\n",
       " ('ptr_generator_out_pointer_gen_cov.txt', 'pnbert_out_bert_lstm_pn.txt'): 1,\n",
       " ('ptr_generator_out_pointer_gen_cov.txt', 'bart_out_ext.txt'): 1,\n",
       " ('neusumm_out.txt', 'bart_out.txt'): 1,\n",
       " ('neusumm_out.txt', 'fast_abs_rl_out_rerank.txt'): 0,\n",
       " ('neusumm_out.txt', 't5_out_11B.txt'): 0,\n",
       " ('neusumm_out.txt', 'presumm_out_abs.txt'): 0,\n",
       " ('neusumm_out.txt', 'bottom_up_out.txt'): 0,\n",
       " ('neusumm_out.txt', 'unilm_out_v1.txt'): 0,\n",
       " ('neusumm_out.txt', 't5_out_base.txt'): 0,\n",
       " ('neusumm_out.txt', 'semsim_out.txt'): 1,\n",
       " ('neusumm_out.txt', 'pnbert_out_lstm_pn_rl.txt'): 1,\n",
       " ('neusumm_out.txt', 'refresh_out.txt'): 1,\n",
       " ('neusumm_out.txt', 'heter_graph_out.txt'): 1,\n",
       " ('neusumm_out.txt', 'pnbert_out_bert_tf_sl.txt'): 1,\n",
       " ('neusumm_out.txt', 'banditsumm_out.txt'): 0,\n",
       " ('neusumm_out.txt', 'pnbert_out_bert_lstm_pn_rl.txt'): 1,\n",
       " ('neusumm_out.txt', 'pnbert_out_bert_tf_pn.txt'): 1,\n",
       " ('neusumm_out.txt', 'matchsumm_out.txt'): 1,\n",
       " ('neusumm_out.txt', 'pnbert_out_bert_lstm_pn.txt'): 1,\n",
       " ('neusumm_out.txt', 'bart_out_ext.txt'): 1,\n",
       " ('bart_out.txt', 'fast_abs_rl_out_rerank.txt'): 0,\n",
       " ('bart_out.txt', 't5_out_11B.txt'): 0,\n",
       " ('bart_out.txt', 'presumm_out_abs.txt'): 0,\n",
       " ('bart_out.txt', 'bottom_up_out.txt'): 0,\n",
       " ('bart_out.txt', 'unilm_out_v1.txt'): 0,\n",
       " ('bart_out.txt', 't5_out_base.txt'): 0,\n",
       " ('bart_out.txt', 'semsim_out.txt'): 1,\n",
       " ('bart_out.txt', 'pnbert_out_lstm_pn_rl.txt'): 0,\n",
       " ('bart_out.txt', 'refresh_out.txt'): 0,\n",
       " ('bart_out.txt', 'heter_graph_out.txt'): 0,\n",
       " ('bart_out.txt', 'pnbert_out_bert_tf_sl.txt'): 0,\n",
       " ('bart_out.txt', 'banditsumm_out.txt'): 0,\n",
       " ('bart_out.txt', 'pnbert_out_bert_lstm_pn_rl.txt'): 0,\n",
       " ('bart_out.txt', 'pnbert_out_bert_tf_pn.txt'): 0,\n",
       " ('bart_out.txt', 'matchsumm_out.txt'): 0,\n",
       " ('bart_out.txt', 'pnbert_out_bert_lstm_pn.txt'): 0,\n",
       " ('bart_out.txt', 'bart_out_ext.txt'): 1,\n",
       " ('fast_abs_rl_out_rerank.txt', 't5_out_11B.txt'): 1,\n",
       " ('fast_abs_rl_out_rerank.txt', 'presumm_out_abs.txt'): 1,\n",
       " ('fast_abs_rl_out_rerank.txt', 'bottom_up_out.txt'): 0,\n",
       " ('fast_abs_rl_out_rerank.txt', 'unilm_out_v1.txt'): 1,\n",
       " ('fast_abs_rl_out_rerank.txt', 't5_out_base.txt'): 1,\n",
       " ('fast_abs_rl_out_rerank.txt', 'semsim_out.txt'): 1,\n",
       " ('fast_abs_rl_out_rerank.txt', 'pnbert_out_lstm_pn_rl.txt'): 1,\n",
       " ('fast_abs_rl_out_rerank.txt', 'refresh_out.txt'): 1,\n",
       " ('fast_abs_rl_out_rerank.txt', 'heter_graph_out.txt'): 1,\n",
       " ('fast_abs_rl_out_rerank.txt', 'pnbert_out_bert_tf_sl.txt'): 1,\n",
       " ('fast_abs_rl_out_rerank.txt', 'banditsumm_out.txt'): 1,\n",
       " ('fast_abs_rl_out_rerank.txt', 'pnbert_out_bert_lstm_pn_rl.txt'): 1,\n",
       " ('fast_abs_rl_out_rerank.txt', 'pnbert_out_bert_tf_pn.txt'): 1,\n",
       " ('fast_abs_rl_out_rerank.txt', 'matchsumm_out.txt'): 1,\n",
       " ('fast_abs_rl_out_rerank.txt', 'pnbert_out_bert_lstm_pn.txt'): 1,\n",
       " ('fast_abs_rl_out_rerank.txt', 'bart_out_ext.txt'): 1,\n",
       " ('t5_out_11B.txt', 'presumm_out_abs.txt'): 0,\n",
       " ('t5_out_11B.txt', 'bottom_up_out.txt'): 0,\n",
       " ('t5_out_11B.txt', 'unilm_out_v1.txt'): 0,\n",
       " ('t5_out_11B.txt', 't5_out_base.txt'): 0,\n",
       " ('t5_out_11B.txt', 'semsim_out.txt'): 1,\n",
       " ('t5_out_11B.txt', 'pnbert_out_lstm_pn_rl.txt'): 1,\n",
       " ('t5_out_11B.txt', 'refresh_out.txt'): 1,\n",
       " ('t5_out_11B.txt', 'heter_graph_out.txt'): 1,\n",
       " ('t5_out_11B.txt', 'pnbert_out_bert_tf_sl.txt'): 1,\n",
       " ('t5_out_11B.txt', 'banditsumm_out.txt'): 0,\n",
       " ('t5_out_11B.txt', 'pnbert_out_bert_lstm_pn_rl.txt'): 1,\n",
       " ('t5_out_11B.txt', 'pnbert_out_bert_tf_pn.txt'): 1,\n",
       " ('t5_out_11B.txt', 'matchsumm_out.txt'): 1,\n",
       " ('t5_out_11B.txt', 'pnbert_out_bert_lstm_pn.txt'): 1,\n",
       " ('t5_out_11B.txt', 'bart_out_ext.txt'): 1,\n",
       " ('presumm_out_abs.txt', 'bottom_up_out.txt'): 0,\n",
       " ('presumm_out_abs.txt', 'unilm_out_v1.txt'): 1,\n",
       " ('presumm_out_abs.txt', 't5_out_base.txt'): 1,\n",
       " ('presumm_out_abs.txt', 'semsim_out.txt'): 1,\n",
       " ('presumm_out_abs.txt', 'pnbert_out_lstm_pn_rl.txt'): 1,\n",
       " ('presumm_out_abs.txt', 'refresh_out.txt'): 1,\n",
       " ('presumm_out_abs.txt', 'heter_graph_out.txt'): 1,\n",
       " ('presumm_out_abs.txt', 'pnbert_out_bert_tf_sl.txt'): 1,\n",
       " ('presumm_out_abs.txt', 'banditsumm_out.txt'): 1,\n",
       " ('presumm_out_abs.txt', 'pnbert_out_bert_lstm_pn_rl.txt'): 1,\n",
       " ('presumm_out_abs.txt', 'pnbert_out_bert_tf_pn.txt'): 1,\n",
       " ('presumm_out_abs.txt', 'matchsumm_out.txt'): 1,\n",
       " ('presumm_out_abs.txt', 'pnbert_out_bert_lstm_pn.txt'): 1,\n",
       " ('presumm_out_abs.txt', 'bart_out_ext.txt'): 1,\n",
       " ('bottom_up_out.txt', 'unilm_out_v1.txt'): 1,\n",
       " ('bottom_up_out.txt', 't5_out_base.txt'): 1,\n",
       " ('bottom_up_out.txt', 'semsim_out.txt'): 1,\n",
       " ('bottom_up_out.txt', 'pnbert_out_lstm_pn_rl.txt'): 1,\n",
       " ('bottom_up_out.txt', 'refresh_out.txt'): 1,\n",
       " ('bottom_up_out.txt', 'heter_graph_out.txt'): 1,\n",
       " ('bottom_up_out.txt', 'pnbert_out_bert_tf_sl.txt'): 1,\n",
       " ('bottom_up_out.txt', 'banditsumm_out.txt'): 1,\n",
       " ('bottom_up_out.txt', 'pnbert_out_bert_lstm_pn_rl.txt'): 1,\n",
       " ('bottom_up_out.txt', 'pnbert_out_bert_tf_pn.txt'): 1,\n",
       " ('bottom_up_out.txt', 'matchsumm_out.txt'): 1,\n",
       " ('bottom_up_out.txt', 'pnbert_out_bert_lstm_pn.txt'): 1,\n",
       " ('bottom_up_out.txt', 'bart_out_ext.txt'): 1,\n",
       " ('unilm_out_v1.txt', 't5_out_base.txt'): 0,\n",
       " ('unilm_out_v1.txt', 'semsim_out.txt'): 1,\n",
       " ('unilm_out_v1.txt', 'pnbert_out_lstm_pn_rl.txt'): 1,\n",
       " ('unilm_out_v1.txt', 'refresh_out.txt'): 1,\n",
       " ('unilm_out_v1.txt', 'heter_graph_out.txt'): 1,\n",
       " ('unilm_out_v1.txt', 'pnbert_out_bert_tf_sl.txt'): 1,\n",
       " ('unilm_out_v1.txt', 'banditsumm_out.txt'): 1,\n",
       " ('unilm_out_v1.txt', 'pnbert_out_bert_lstm_pn_rl.txt'): 1,\n",
       " ('unilm_out_v1.txt', 'pnbert_out_bert_tf_pn.txt'): 1,\n",
       " ('unilm_out_v1.txt', 'matchsumm_out.txt'): 1,\n",
       " ('unilm_out_v1.txt', 'pnbert_out_bert_lstm_pn.txt'): 1,\n",
       " ('unilm_out_v1.txt', 'bart_out_ext.txt'): 1,\n",
       " ('t5_out_base.txt', 'semsim_out.txt'): 1,\n",
       " ('t5_out_base.txt', 'pnbert_out_lstm_pn_rl.txt'): 1,\n",
       " ('t5_out_base.txt', 'refresh_out.txt'): 1,\n",
       " ('t5_out_base.txt', 'heter_graph_out.txt'): 1,\n",
       " ('t5_out_base.txt', 'pnbert_out_bert_tf_sl.txt'): 1,\n",
       " ('t5_out_base.txt', 'banditsumm_out.txt'): 1,\n",
       " ('t5_out_base.txt', 'pnbert_out_bert_lstm_pn_rl.txt'): 1,\n",
       " ('t5_out_base.txt', 'pnbert_out_bert_tf_pn.txt'): 1,\n",
       " ('t5_out_base.txt', 'matchsumm_out.txt'): 1,\n",
       " ('t5_out_base.txt', 'pnbert_out_bert_lstm_pn.txt'): 1,\n",
       " ('t5_out_base.txt', 'bart_out_ext.txt'): 1,\n",
       " ('semsim_out.txt', 'pnbert_out_lstm_pn_rl.txt'): 0,\n",
       " ('semsim_out.txt', 'refresh_out.txt'): 0,\n",
       " ('semsim_out.txt', 'heter_graph_out.txt'): 0,\n",
       " ('semsim_out.txt', 'pnbert_out_bert_tf_sl.txt'): 0,\n",
       " ('semsim_out.txt', 'banditsumm_out.txt'): 0,\n",
       " ('semsim_out.txt', 'pnbert_out_bert_lstm_pn_rl.txt'): 0,\n",
       " ('semsim_out.txt', 'pnbert_out_bert_tf_pn.txt'): 0,\n",
       " ('semsim_out.txt', 'matchsumm_out.txt'): 0,\n",
       " ('semsim_out.txt', 'pnbert_out_bert_lstm_pn.txt'): 0,\n",
       " ('semsim_out.txt', 'bart_out_ext.txt'): 0,\n",
       " ('pnbert_out_lstm_pn_rl.txt', 'refresh_out.txt'): 1,\n",
       " ('pnbert_out_lstm_pn_rl.txt', 'heter_graph_out.txt'): 0,\n",
       " ('pnbert_out_lstm_pn_rl.txt', 'pnbert_out_bert_tf_sl.txt'): 0,\n",
       " ('pnbert_out_lstm_pn_rl.txt', 'banditsumm_out.txt'): 0,\n",
       " ('pnbert_out_lstm_pn_rl.txt', 'pnbert_out_bert_lstm_pn_rl.txt'): 0,\n",
       " ('pnbert_out_lstm_pn_rl.txt', 'pnbert_out_bert_tf_pn.txt'): 0,\n",
       " ('pnbert_out_lstm_pn_rl.txt', 'matchsumm_out.txt'): 1,\n",
       " ('pnbert_out_lstm_pn_rl.txt', 'pnbert_out_bert_lstm_pn.txt'): 0,\n",
       " ('pnbert_out_lstm_pn_rl.txt', 'bart_out_ext.txt'): 1,\n",
       " ('refresh_out.txt', 'heter_graph_out.txt'): 0,\n",
       " ('refresh_out.txt', 'pnbert_out_bert_tf_sl.txt'): 0,\n",
       " ('refresh_out.txt', 'banditsumm_out.txt'): 0,\n",
       " ('refresh_out.txt', 'pnbert_out_bert_lstm_pn_rl.txt'): 0,\n",
       " ('refresh_out.txt', 'pnbert_out_bert_tf_pn.txt'): 0,\n",
       " ('refresh_out.txt', 'matchsumm_out.txt'): 0,\n",
       " ('refresh_out.txt', 'pnbert_out_bert_lstm_pn.txt'): 0,\n",
       " ('refresh_out.txt', 'bart_out_ext.txt'): 1,\n",
       " ('heter_graph_out.txt', 'pnbert_out_bert_tf_sl.txt'): 1,\n",
       " ('heter_graph_out.txt', 'banditsumm_out.txt'): 0,\n",
       " ('heter_graph_out.txt', 'pnbert_out_bert_lstm_pn_rl.txt'): 1,\n",
       " ('heter_graph_out.txt', 'pnbert_out_bert_tf_pn.txt'): 1,\n",
       " ('heter_graph_out.txt', 'matchsumm_out.txt'): 1,\n",
       " ('heter_graph_out.txt', 'pnbert_out_bert_lstm_pn.txt'): 1,\n",
       " ('heter_graph_out.txt', 'bart_out_ext.txt'): 1,\n",
       " ('pnbert_out_bert_tf_sl.txt', 'banditsumm_out.txt'): 0,\n",
       " ('pnbert_out_bert_tf_sl.txt', 'pnbert_out_bert_lstm_pn_rl.txt'): 0,\n",
       " ('pnbert_out_bert_tf_sl.txt', 'pnbert_out_bert_tf_pn.txt'): 0,\n",
       " ('pnbert_out_bert_tf_sl.txt', 'matchsumm_out.txt'): 1,\n",
       " ('pnbert_out_bert_tf_sl.txt', 'pnbert_out_bert_lstm_pn.txt'): 1,\n",
       " ('pnbert_out_bert_tf_sl.txt', 'bart_out_ext.txt'): 1,\n",
       " ('banditsumm_out.txt', 'pnbert_out_bert_lstm_pn_rl.txt'): 1,\n",
       " ('banditsumm_out.txt', 'pnbert_out_bert_tf_pn.txt'): 1,\n",
       " ('banditsumm_out.txt', 'matchsumm_out.txt'): 1,\n",
       " ('banditsumm_out.txt', 'pnbert_out_bert_lstm_pn.txt'): 1,\n",
       " ('banditsumm_out.txt', 'bart_out_ext.txt'): 1,\n",
       " ('pnbert_out_bert_lstm_pn_rl.txt', 'pnbert_out_bert_tf_pn.txt'): 1,\n",
       " ('pnbert_out_bert_lstm_pn_rl.txt', 'matchsumm_out.txt'): 1,\n",
       " ('pnbert_out_bert_lstm_pn_rl.txt', 'pnbert_out_bert_lstm_pn.txt'): 1,\n",
       " ('pnbert_out_bert_lstm_pn_rl.txt', 'bart_out_ext.txt'): 1,\n",
       " ('pnbert_out_bert_tf_pn.txt', 'matchsumm_out.txt'): 1,\n",
       " ('pnbert_out_bert_tf_pn.txt', 'pnbert_out_bert_lstm_pn.txt'): 1,\n",
       " ('pnbert_out_bert_tf_pn.txt', 'bart_out_ext.txt'): 1,\n",
       " ('matchsumm_out.txt', 'pnbert_out_bert_lstm_pn.txt'): 0,\n",
       " ('matchsumm_out.txt', 'bart_out_ext.txt'): 1,\n",
       " ('pnbert_out_bert_lstm_pn.txt', 'bart_out_ext.txt'): 1}"
      ]
     },
     "execution_count": 68,
     "metadata": {},
     "output_type": "execute_result"
    }
   ],
   "source": [
    "human_judgements"
   ]
  },
  {
   "cell_type": "code",
   "execution_count": null,
   "metadata": {},
   "outputs": [
    {
     "name": "stdout",
     "output_type": "stream",
     "text": [
      "bert_recall_score 0.8006260718549876\n",
      "mover_score 0.6854144711018068\n",
      "wms 0.5842687074829932\n",
      "sms 0.5395857692322832\n",
      "rouge_1_recall 0.873763963088878\n",
      "rouge_2_recall 0.9365552965552966\n",
      "rouge_l_recall 0.867552887364208\n",
      "js-2 0.7880885482081893\n"
     ]
    }
   ],
   "source": [
    "# print f1 scores\n",
    "y_true = [human_judgements[pair] for pair in all_system_pairs]\n",
    "metrics = mlist\n",
    "for metric in metrics:\n",
    "    metric_predictions = get_predictions_br(all_system_pairs, systems, metric)\n",
    "    \n",
    "    y_pred = [metric_predictions[pair] for pair in all_system_pairs]\n",
    "    print(metric, f1_score(y_true, y_pred, average='weighted'))"
   ]
  }
 ],
 "metadata": {
  "kernelspec": {
   "display_name": "Python 3",
   "language": "python",
   "name": "python3"
  },
  "language_info": {
   "codemirror_mode": {
    "name": "ipython",
    "version": 3
   },
   "file_extension": ".py",
   "mimetype": "text/x-python",
   "name": "python",
   "nbconvert_exporter": "python",
   "pygments_lexer": "ipython3",
   "version": "3.7.4"
  }
 },
 "nbformat": 4,
 "nbformat_minor": 4
}
